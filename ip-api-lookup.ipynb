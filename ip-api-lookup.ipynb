{
 "cells": [
  {
   "cell_type": "code",
   "execution_count": 13,
   "id": "81877f5f-4588-437f-b049-7e2e6166ceb9",
   "metadata": {},
   "outputs": [],
   "source": [
    "import json\n",
    "import urllib.request\n"
   ]
  },
  {
   "cell_type": "code",
   "execution_count": 14,
   "id": "95c8e281-8a81-4d9a-82bb-c0c9ba7fe14b",
   "metadata": {},
   "outputs": [],
   "source": [
    "endpoint=\"http://ip-api.com/batch\"\n",
    "ips = [{\"query\": \"208.80.152.201\", \"fields\": \"country\"}, \"8.8.8.8\"]\n",
    "params = json.dumps(ips).encode('utf8')\n",
    "req = urllib.request.Request(endpoint, data=params,\n",
    "                             headers={'content-type': 'application/json'})\n",
    "response = urllib.request.urlopen(req)"
   ]
  },
  {
   "cell_type": "code",
   "execution_count": 15,
   "id": "05b33b9e-5a1b-4f97-92eb-4e08e7734d26",
   "metadata": {},
   "outputs": [
    {
     "name": "stdout",
     "output_type": "stream",
     "text": [
      "[{\"country\":\"United States\"},{\"status\":\"success\",\"country\":\"United States\",\"countryCode\":\"US\",\"region\":\"VA\",\"regionName\":\"Virginia\",\"city\":\"Ashburn\",\"zip\":\"20149\",\"lat\":39.03,\"lon\":-77.5,\"timezone\":\"America/New_York\",\"isp\":\"Google LLC\",\"org\":\"Google Public DNS\",\"as\":\"AS15169 Google LLC\",\"query\":\"8.8.8.8\"}]\n"
     ]
    }
   ],
   "source": [
    "response = urllib.request.urlopen(req)\n",
    "print(response.read().decode('utf8'))"
   ]
  },
  {
   "cell_type": "code",
   "execution_count": null,
   "id": "1fe58e0a-1fdb-457a-a773-7e7f962a0409",
   "metadata": {},
   "outputs": [],
   "source": []
  }
 ],
 "metadata": {
  "kernelspec": {
   "display_name": "Python 3",
   "language": "python",
   "name": "python3"
  },
  "language_info": {
   "codemirror_mode": {
    "name": "ipython",
    "version": 3
   },
   "file_extension": ".py",
   "mimetype": "text/x-python",
   "name": "python",
   "nbconvert_exporter": "python",
   "pygments_lexer": "ipython3",
   "version": "3.9.9"
  }
 },
 "nbformat": 4,
 "nbformat_minor": 5
}
